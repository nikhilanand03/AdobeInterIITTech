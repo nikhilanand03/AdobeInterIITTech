{
 "cells": [
  {
   "cell_type": "code",
   "execution_count": 171,
   "metadata": {},
   "outputs": [],
   "source": [
    "import numpy as np\n",
    "import matplotlib.pyplot as plt\n",
    "import pandas as pd\n",
    "import http.client"
   ]
  },
  {
   "cell_type": "code",
   "execution_count": 172,
   "metadata": {},
   "outputs": [],
   "source": [
    "import requests"
   ]
  },
  {
   "cell_type": "code",
   "execution_count": 173,
   "metadata": {},
   "outputs": [],
   "source": [
    "df = pd.read_excel(\"behaviour_simulation_train.xlsx\")"
   ]
  },
  {
   "cell_type": "code",
   "execution_count": 174,
   "metadata": {},
   "outputs": [
    {
     "data": {
      "text/html": [
       "<div>\n",
       "<style scoped>\n",
       "    .dataframe tbody tr th:only-of-type {\n",
       "        vertical-align: middle;\n",
       "    }\n",
       "\n",
       "    .dataframe tbody tr th {\n",
       "        vertical-align: top;\n",
       "    }\n",
       "\n",
       "    .dataframe thead th {\n",
       "        text-align: right;\n",
       "    }\n",
       "</style>\n",
       "<table border=\"1\" class=\"dataframe\">\n",
       "  <thead>\n",
       "    <tr style=\"text-align: right;\">\n",
       "      <th></th>\n",
       "      <th>id</th>\n",
       "      <th>date</th>\n",
       "      <th>likes</th>\n",
       "      <th>content</th>\n",
       "      <th>username</th>\n",
       "      <th>media</th>\n",
       "      <th>inferred company</th>\n",
       "    </tr>\n",
       "  </thead>\n",
       "  <tbody>\n",
       "    <tr>\n",
       "      <th>0</th>\n",
       "      <td>1</td>\n",
       "      <td>2020-12-12 00:47:00</td>\n",
       "      <td>1</td>\n",
       "      <td>Spend your weekend morning with a Ham, Egg, an...</td>\n",
       "      <td>TimHortonsPH</td>\n",
       "      <td>[Photo(previewUrl='https://pbs.twimg.com/media...</td>\n",
       "      <td>tim hortons</td>\n",
       "    </tr>\n",
       "    <tr>\n",
       "      <th>1</th>\n",
       "      <td>2</td>\n",
       "      <td>2018-06-30 10:04:20</td>\n",
       "      <td>2750</td>\n",
       "      <td>Watch rapper &lt;mention&gt; freestyle for over an H...</td>\n",
       "      <td>IndyMusic</td>\n",
       "      <td>[Photo(previewUrl='https://pbs.twimg.com/media...</td>\n",
       "      <td>independent</td>\n",
       "    </tr>\n",
       "    <tr>\n",
       "      <th>2</th>\n",
       "      <td>3</td>\n",
       "      <td>2020-09-29 19:47:28</td>\n",
       "      <td>57</td>\n",
       "      <td>Canadian Armenian community demands ban on mil...</td>\n",
       "      <td>CBCCanada</td>\n",
       "      <td>[Photo(previewUrl='https://pbs.twimg.com/media...</td>\n",
       "      <td>cbc</td>\n",
       "    </tr>\n",
       "    <tr>\n",
       "      <th>3</th>\n",
       "      <td>4</td>\n",
       "      <td>2020-10-01 11:40:09</td>\n",
       "      <td>152</td>\n",
       "      <td>1st in Europe to be devastated by COVID-19, It...</td>\n",
       "      <td>MKWilliamsRome</td>\n",
       "      <td>[Photo(previewUrl='https://pbs.twimg.com/media...</td>\n",
       "      <td>williams</td>\n",
       "    </tr>\n",
       "    <tr>\n",
       "      <th>4</th>\n",
       "      <td>5</td>\n",
       "      <td>2018-10-19 14:30:46</td>\n",
       "      <td>41</td>\n",
       "      <td>Congratulations to Pauletha Butts of &lt;mention&gt;...</td>\n",
       "      <td>BGISD</td>\n",
       "      <td>[Photo(previewUrl='https://pbs.twimg.com/media...</td>\n",
       "      <td>independent</td>\n",
       "    </tr>\n",
       "  </tbody>\n",
       "</table>\n",
       "</div>"
      ],
      "text/plain": [
       "   id                 date  likes  \\\n",
       "0   1  2020-12-12 00:47:00      1   \n",
       "1   2  2018-06-30 10:04:20   2750   \n",
       "2   3  2020-09-29 19:47:28     57   \n",
       "3   4  2020-10-01 11:40:09    152   \n",
       "4   5  2018-10-19 14:30:46     41   \n",
       "\n",
       "                                             content        username  \\\n",
       "0  Spend your weekend morning with a Ham, Egg, an...    TimHortonsPH   \n",
       "1  Watch rapper <mention> freestyle for over an H...       IndyMusic   \n",
       "2  Canadian Armenian community demands ban on mil...       CBCCanada   \n",
       "3  1st in Europe to be devastated by COVID-19, It...  MKWilliamsRome   \n",
       "4  Congratulations to Pauletha Butts of <mention>...           BGISD   \n",
       "\n",
       "                                               media inferred company  \n",
       "0  [Photo(previewUrl='https://pbs.twimg.com/media...      tim hortons  \n",
       "1  [Photo(previewUrl='https://pbs.twimg.com/media...      independent  \n",
       "2  [Photo(previewUrl='https://pbs.twimg.com/media...              cbc  \n",
       "3  [Photo(previewUrl='https://pbs.twimg.com/media...         williams  \n",
       "4  [Photo(previewUrl='https://pbs.twimg.com/media...      independent  "
      ]
     },
     "execution_count": 174,
     "metadata": {},
     "output_type": "execute_result"
    }
   ],
   "source": [
    "df.head()"
   ]
  },
  {
   "cell_type": "code",
   "execution_count": 175,
   "metadata": {},
   "outputs": [
    {
     "data": {
      "text/plain": [
       "id                  0\n",
       "date                0\n",
       "likes               0\n",
       "content             0\n",
       "username            0\n",
       "media               0\n",
       "inferred company    0\n",
       "dtype: int64"
      ]
     },
     "execution_count": 175,
     "metadata": {},
     "output_type": "execute_result"
    }
   ],
   "source": [
    "df.isnull().sum()"
   ]
  },
  {
   "cell_type": "code",
   "execution_count": 176,
   "metadata": {},
   "outputs": [
    {
     "name": "stdout",
     "output_type": "stream",
     "text": [
      "Username=TimHortonsPH? :  185\n"
     ]
    }
   ],
   "source": [
    "print(\"Username=TimHortonsPH? : \",df[df[\"username\"]==\"TimHortonsPH\"].count()['id'])"
   ]
  },
  {
   "cell_type": "code",
   "execution_count": 177,
   "metadata": {},
   "outputs": [
    {
     "name": "stdout",
     "output_type": "stream",
     "text": [
      "Username=TimHortons? :  185\n"
     ]
    }
   ],
   "source": [
    "print(\"Username=TimHortons? : \",df[df[\"username\"]==\"TimHortonsPH\"].count()['id'])"
   ]
  },
  {
   "cell_type": "code",
   "execution_count": 178,
   "metadata": {},
   "outputs": [
    {
     "name": "stdout",
     "output_type": "stream",
     "text": [
      "How many in total? :  300000\n"
     ]
    }
   ],
   "source": [
    "print(\"How many in total? : \", df['id'].count())"
   ]
  },
  {
   "cell_type": "code",
   "execution_count": 179,
   "metadata": {},
   "outputs": [
    {
     "name": "stdout",
     "output_type": "stream",
     "text": [
      "Inferred brand=TimHortons? :  807\n"
     ]
    }
   ],
   "source": [
    "print(\"Inferred brand=TimHortons? : \", df[df[\"inferred company\"]==\"tim hortons\"].count()['id'])"
   ]
  },
  {
   "cell_type": "code",
   "execution_count": 180,
   "metadata": {},
   "outputs": [
    {
     "name": "stdout",
     "output_type": "stream",
     "text": [
      "Inferred brand=Independent? :  39248\n"
     ]
    }
   ],
   "source": [
    "print(\"Inferred brand=Independent? : \", df[df[\"inferred company\"]==\"independent\"].count()['id'])"
   ]
  },
  {
   "cell_type": "code",
   "execution_count": 181,
   "metadata": {},
   "outputs": [
    {
     "name": "stdout",
     "output_type": "stream",
     "text": [
      "How many unique inferred companies? :  220\n"
     ]
    }
   ],
   "source": [
    "print(\"How many unique inferred companies? : \", len(df['inferred company'].unique()))"
   ]
  },
  {
   "cell_type": "code",
   "execution_count": 182,
   "metadata": {},
   "outputs": [
    {
     "name": "stdout",
     "output_type": "stream",
     "text": [
      "Unique usernames? :  2449\n"
     ]
    }
   ],
   "source": [
    "print(\"Unique usernames? : \", len(df['username'].unique()))"
   ]
  },
  {
   "cell_type": "code",
   "execution_count": 183,
   "metadata": {},
   "outputs": [
    {
     "ename": "TypeError",
     "evalue": "'str' object is not callable",
     "output_type": "error",
     "traceback": [
      "\u001b[0;31m---------------------------------------------------------------------------\u001b[0m",
      "\u001b[0;31mTypeError\u001b[0m                                 Traceback (most recent call last)",
      "Cell \u001b[0;32mIn[183], line 3\u001b[0m\n\u001b[1;32m      1\u001b[0m \u001b[38;5;66;03m# Replace inferred company name and see all usernames\u001b[39;00m\n\u001b[1;32m      2\u001b[0m comp \u001b[38;5;241m=\u001b[39m df[df[\u001b[38;5;124m\"\u001b[39m\u001b[38;5;124minferred company\u001b[39m\u001b[38;5;124m\"\u001b[39m]\u001b[38;5;241m==\u001b[39m\u001b[38;5;124m\"\u001b[39m\u001b[38;5;124mcnn\u001b[39m\u001b[38;5;124m\"\u001b[39m]\n\u001b[0;32m----> 3\u001b[0m \u001b[38;5;124m\"\u001b[39m\u001b[38;5;124mNumber: \u001b[39m\u001b[38;5;124m\"\u001b[39m\u001b[38;5;241m+\u001b[39m\u001b[38;5;28mstr\u001b[39m(\u001b[38;5;28mlen\u001b[39m(comp[\u001b[38;5;124m\"\u001b[39m\u001b[38;5;124musername\u001b[39m\u001b[38;5;124m\"\u001b[39m]\u001b[38;5;241m.\u001b[39munique())),comp[\u001b[38;5;124m\"\u001b[39m\u001b[38;5;124musername\u001b[39m\u001b[38;5;124m\"\u001b[39m]\u001b[38;5;241m.\u001b[39munique()\n",
      "\u001b[0;31mTypeError\u001b[0m: 'str' object is not callable"
     ]
    }
   ],
   "source": [
    "# Replace inferred company name and see all usernames\n",
    "comp = df[df[\"inferred company\"]==\"cnn\"]\n",
    "\"Number: \"+str(len(comp[\"username\"].unique())),comp[\"username\"].unique()"
   ]
  },
  {
   "cell_type": "markdown",
   "metadata": {},
   "source": [
    "# Videos"
   ]
  },
  {
   "cell_type": "code",
   "execution_count": 184,
   "metadata": {},
   "outputs": [],
   "source": [
    "dfrev = df.iloc[::-1]"
   ]
  },
  {
   "cell_type": "code",
   "execution_count": 185,
   "metadata": {},
   "outputs": [],
   "source": [
    "videos_df = dfrev[dfrev['media'].str.startswith(\"[Video\")]"
   ]
  },
  {
   "cell_type": "code",
   "execution_count": 186,
   "metadata": {},
   "outputs": [
    {
     "data": {
      "text/plain": [
       "id                  77146\n",
       "date                77146\n",
       "likes               77146\n",
       "content             77146\n",
       "username            77146\n",
       "media               77146\n",
       "inferred company    77146\n",
       "dtype: int64"
      ]
     },
     "execution_count": 186,
     "metadata": {},
     "output_type": "execute_result"
    }
   ],
   "source": [
    "videos_df.count()"
   ]
  },
  {
   "cell_type": "code",
   "execution_count": 170,
   "metadata": {},
   "outputs": [],
   "source": [
    "vidids=[id for id in videos_df['id'].values]\n",
    "result_string = ', '.join(['{}'.format(num) for num in vidids[::-1]])\n",
    "with open(\"vidIDs.txt\",'w') as vidIDs:\n",
    "    vidIDs.write('['+result_string+']')"
   ]
  },
  {
   "cell_type": "code",
   "execution_count": 189,
   "metadata": {},
   "outputs": [],
   "source": [
    "with open('log_video2.txt', 'w'):\n",
    "    pass"
   ]
  },
  {
   "cell_type": "code",
   "execution_count": 190,
   "metadata": {},
   "outputs": [],
   "source": [
    "indices=[]\n",
    "\n",
    "for i in range(51600,len(videos_df)): # (26000,51600) (51600,len(videos_df))\n",
    "    string=videos_df.iloc[i]['media']\n",
    "    arr =string.split(\",\")\n",
    "    for s in arr:\n",
    "        if(s.find('http')!=-1):\n",
    "            ss=s[s.find(\"http\"):-1]\n",
    "            if(ss.find(\"video.\")!=-1 and ss.find(\".m3u8\")==-1):\n",
    "                with open('log_video2.txt', 'a') as log_file:\n",
    "                    # print(ss)\n",
    "                    try:\n",
    "                        url_parts = http.client.urlsplit(ss)\n",
    "                        host = url_parts.netloc\n",
    "                        path = url_parts.path or '/'\n",
    "                        connection = http.client.HTTPConnection(host)\n",
    "                        connection.request(\"GET\", path)\n",
    "                        response = connection.getresponse()\n",
    "                        if(response.status<400):\n",
    "                            log_file.write(f\"Success! Status Code: {response.status}\"+'\\n')\n",
    "                            break\n",
    "                        else:\n",
    "                            log_file.write(f\"Error! Response Code: {response.status}\"+'\\n')\n",
    "                            indices.append(i)\n",
    "                            break\n",
    "\n",
    "                    except http.client.HTTPException as e:\n",
    "                        indices.append(i)\n",
    "                        log_file.write(f\"Error: {e}\" + '\\n')\n",
    "                        break"
   ]
  },
  {
   "cell_type": "code",
   "execution_count": null,
   "metadata": {},
   "outputs": [],
   "source": []
  }
 ],
 "metadata": {
  "interpreter": {
   "hash": "b0fa6594d8f4cbf19f97940f81e996739fb7646882a419484c72d19e05852a7e"
  },
  "kernelspec": {
   "display_name": "Python 3.11.6 64-bit",
   "name": "python3"
  },
  "language_info": {
   "codemirror_mode": {
    "name": "ipython",
    "version": 3
   },
   "file_extension": ".py",
   "mimetype": "text/x-python",
   "name": "python",
   "nbconvert_exporter": "python",
   "pygments_lexer": "ipython3",
   "version": "3.11.5"
  },
  "orig_nbformat": 4
 },
 "nbformat": 4,
 "nbformat_minor": 2
}
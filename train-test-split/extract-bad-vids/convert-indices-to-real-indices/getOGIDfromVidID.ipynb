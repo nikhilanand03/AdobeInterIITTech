{
 "cells": [
  {
   "cell_type": "code",
   "execution_count": 70,
   "metadata": {},
   "outputs": [
    {
     "name": "stdout",
     "output_type": "stream",
     "text": [
      "ID in original array:  299828\n"
     ]
    }
   ],
   "source": [
    "with open(\"vidIDs_rel_to_ogdf.txt\",'r') as vidids:\n",
    "    line = vidids.readline()\n",
    "    arr = line.split(', ')\n",
    "    arr[0] = arr[0][1:]\n",
    "    arr[-1] = arr[-1][:-1]\n",
    "    arrnum_relids = [int(s) for s in arr]\n",
    "    id = 33\n",
    "    id2 = 77146-id+1\n",
    "    print(\"ID in original array: \",arrnum_relids[id2-1])"
   ]
  },
  {
   "cell_type": "code",
   "execution_count": 71,
   "metadata": {},
   "outputs": [],
   "source": [
    "with open(\"final_indices.txt\",'r') as vidids:\n",
    "    line = vidids.readline()\n",
    "    arr = line.split(', ')\n",
    "    arr[0] = arr[0][1:]\n",
    "    arr[-1] = arr[-1][:-1]\n",
    "    arrnum_ids = [int(s) for s in arr]\n",
    "    li = []\n",
    "    # id = 25993\n",
    "    for id in arrnum_ids:\n",
    "        id2 = 77146-id+1\n",
    "        # print(\"ID in original array: \",arrnum_relids[id2-1])\n",
    "        li.append(arrnum_relids[id2-1])\n",
    "    # print(li[::-1])\n",
    "    li2 = li[::-1]"
   ]
  },
  {
   "cell_type": "code",
   "execution_count": 72,
   "metadata": {},
   "outputs": [],
   "source": [
    "with open(\"final_bad_ids.txt\",'w') as badids:\n",
    "    badids.write(str(li2))"
   ]
  },
  {
   "cell_type": "code",
   "execution_count": 73,
   "metadata": {},
   "outputs": [
    {
     "data": {
      "text/plain": [
       "1941"
      ]
     },
     "execution_count": 73,
     "metadata": {},
     "output_type": "execute_result"
    }
   ],
   "source": [
    "len(li2)"
   ]
  }
 ],
 "metadata": {
  "interpreter": {
   "hash": "8ff1e3bcc722a39238b6a7f93d00740f2997fe4fe04527d6796cad45df3c0deb"
  },
  "kernelspec": {
   "display_name": "Python 3.11.5 64-bit ('mne': conda)",
   "name": "python3"
  },
  "language_info": {
   "codemirror_mode": {
    "name": "ipython",
    "version": 3
   },
   "file_extension": ".py",
   "mimetype": "text/x-python",
   "name": "python",
   "nbconvert_exporter": "python",
   "pygments_lexer": "ipython3",
   "version": "3.11.5"
  },
  "orig_nbformat": 4
 },
 "nbformat": 4,
 "nbformat_minor": 2
}
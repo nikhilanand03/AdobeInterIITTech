{
 "cells": [
  {
   "cell_type": "code",
   "execution_count": 188,
   "metadata": {},
   "outputs": [],
   "source": [
    "# Importing libraries\n",
    "import numpy as np\n",
    "import pickle\n",
    "import pandas as pd\n",
    "import torch\n",
    "import torch.nn as nn\n",
    "import torchvision.models as models\n",
    "import torch.optim as optim\n",
    "from torch.utils.data import TensorDataset, DataLoader\n",
    "from torchtext import vocab\n",
    "from torchtext.vocab import build_vocab_from_iterator\n",
    "# from rouge_score import rouge_scorer\n",
    "from nltk.translate.bleu_score import sentence_bleu,SmoothingFunction\n",
    "import matplotlib.pyplot as plt\n",
    "from tqdm import tqdm\n",
    "from rouge import Rouge\n",
    "import re"
   ]
  },
  {
   "cell_type": "code",
   "execution_count": 189,
   "metadata": {},
   "outputs": [],
   "source": [
    "class EncoderModel(nn.Module):\n",
    "    def __init__(self,input_dim,embed_dim,drop=0.3):\n",
    "        super(EncoderModel,self).__init__()\n",
    "        self.lin = nn.Linear(input_dim,embed_dim)\n",
    "        self.relu = nn.ReLU()\n",
    "        self.dropout = nn.Dropout(drop)\n",
    "    \n",
    "    def forward(self,x):\n",
    "        for name,param in self.lin.named_parameters():\n",
    "            # print(name + \" ** \" + str(param))\n",
    "            param.requires_grad=True # ensures params are trainable\n",
    "\n",
    "        x = self.lin(x)\n",
    "        return self.dropout(self.relu(x))"
   ]
  },
  {
   "cell_type": "code",
   "execution_count": 190,
   "metadata": {},
   "outputs": [],
   "source": [
    "class DecoderRNN(nn.Module):\n",
    "    def __init__(self,embed_dim,hidden_size,vocab_size,num_layers):\n",
    "        super(DecoderRNN,self).__init__()\n",
    "        self.embed = nn.Embedding(vocab_size,embed_dim)\n",
    "        self.lstm = nn.LSTM(embed_dim,hidden_size,num_layers)\n",
    "        self.linear = nn.Linear(hidden_size,vocab_size)\n",
    "        self.dropout = nn.Dropout(0.5)\n",
    "    \n",
    "    def forward(self,features,captions):\n",
    "        embeddings = self.dropout(self.embed(captions))\n",
    "        embeddings = torch.cat((features.unsqueeze(0),embeddings),dim=0) #if Caption words: (n,5); Features: (5,); Cat: (n+1,5)\n",
    "        hiddens,_ = self.lstm(embeddings) # feeding all inputs at once and getting the list of hidden states\n",
    "        outputs = self.linear(hiddens)\n",
    "        return outputs\n"
   ]
  },
  {
   "cell_type": "code",
   "execution_count": 191,
   "metadata": {},
   "outputs": [],
   "source": [
    "class EncoderDecoder(nn.Module):\n",
    "    def __init__(self,input_dim,embed_dim,hidden_size,vocab_size,num_layers,drop=0.3):\n",
    "        super(EncoderDecoder,self).__init__()\n",
    "        self.encoder = EncoderModel(input_dim,embed_dim,drop)\n",
    "        self.decoder = DecoderRNN(embed_dim,hidden_size,vocab_size,num_layers)\n",
    "    \n",
    "    def forward(self,x,captions):\n",
    "        features = self.encoder(x)\n",
    "        outputs = self.decoder(features,captions)\n",
    "        return outputs\n",
    "    \n",
    "    # For inference -\n",
    "    def caption_image(self,image_embed,vocab,max_length=65):\n",
    "        with torch.no_grad():\n",
    "            x = self.encoder(image_embed).unsqueeze(0)\n",
    "            states = None\n",
    "            result_caption=[]\n",
    "\n",
    "            for _ in range(65):\n",
    "                hiddens,states = self.decoder.lstm(x,states)\n",
    "                output = self.decoder.linear(hiddens.squeeze(0)) # Directly produces the one-hot word\n",
    "                predicted = output.argmax(0)\n",
    "                # print(predicted)\n",
    "                result_caption.append(predicted.item())\n",
    "                x = self.decoder.embed(predicted).unsqueeze(0)\n",
    "\n",
    "                if vocab.itos[predicted.item()]==\"<EOS>\":\n",
    "                    break\n",
    "                \n",
    "        return [vocab.itos[idx] for idx in result_caption]"
   ]
  },
  {
   "cell_type": "markdown",
   "metadata": {},
   "source": [
    "## Next part"
   ]
  },
  {
   "cell_type": "code",
   "execution_count": 106,
   "metadata": {},
   "outputs": [
    {
     "data": {
      "text/plain": [
       "(tensor([[ 1.0210, -1.0482, -0.4479,  0.2209, -0.9994]],\n",
       "        grad_fn=<EmbeddingBackward0>),\n",
       " torch.Size([1, 5]),\n",
       " tensor([[ 2.0420, -2.0963, -0.8959,  0.0000, -1.9989]], grad_fn=<MulBackward0>))"
      ]
     },
     "execution_count": 106,
     "metadata": {},
     "output_type": "execute_result"
    }
   ],
   "source": [
    "em = nn.Embedding(25,5)\n",
    "d =nn.Dropout(0.5)\n",
    "y = em(torch.tensor([23]))\n",
    "y,y.shape,d(y)"
   ]
  },
  {
   "cell_type": "code",
   "execution_count": 7,
   "metadata": {},
   "outputs": [
    {
     "name": "stdout",
     "output_type": "stream",
     "text": [
      "It's out of range for the embedding's vocab size!\n"
     ]
    }
   ],
   "source": [
    "try:\n",
    "    y = em(torch.tensor([25]))\n",
    "except:\n",
    "    print(\"It's out of range for the embedding's vocab size!\")"
   ]
  },
  {
   "cell_type": "code",
   "execution_count": 8,
   "metadata": {},
   "outputs": [
    {
     "data": {
      "text/plain": [
       "(torch.Size([1, 5]), torch.Size([1, 5]))"
      ]
     },
     "execution_count": 8,
     "metadata": {},
     "output_type": "execute_result"
    }
   ],
   "source": [
    "y = em(torch.tensor([23]))\n",
    "a = torch.tensor([1,2,3,4,5]).unsqueeze(0)\n",
    "a.shape,y.shape"
   ]
  },
  {
   "cell_type": "code",
   "execution_count": 9,
   "metadata": {},
   "outputs": [
    {
     "data": {
      "text/plain": [
       "torch.Size([2, 5])"
      ]
     },
     "execution_count": 9,
     "metadata": {},
     "output_type": "execute_result"
    }
   ],
   "source": [
    "embeddings = torch.cat((a,y),dim=0)\n",
    "embeddings.shape"
   ]
  },
  {
   "cell_type": "markdown",
   "metadata": {},
   "source": [
    "# Training"
   ]
  },
  {
   "cell_type": "code",
   "execution_count": 192,
   "metadata": {},
   "outputs": [
    {
     "data": {
      "text/plain": [
       "(torch.Size([46294, 1283]), torch.Size([46294, 65]))"
      ]
     },
     "execution_count": 192,
     "metadata": {},
     "output_type": "execute_result"
    }
   ],
   "source": [
    "X_train = torch.load(\"X_train.pt\")\n",
    "y_train = torch.load(\"y_train.pt\")\n",
    "X_train.shape,y_train.shape # Max length is taken as 65, no tweet has a higher length in the train dataset"
   ]
  },
  {
   "cell_type": "code",
   "execution_count": 193,
   "metadata": {},
   "outputs": [],
   "source": [
    "train_dataset = TensorDataset(X_train,y_train)\n",
    "train_dataloader = DataLoader(train_dataset, batch_size=64, shuffle=True)"
   ]
  },
  {
   "cell_type": "code",
   "execution_count": 194,
   "metadata": {},
   "outputs": [],
   "source": [
    "VOCAB_SIZE = 118768\n",
    "MAX_LEN = 65\n",
    "FEAT_DIM = 1283\n",
    "VOCAB_PAD_INDEX = 1"
   ]
  },
  {
   "cell_type": "code",
   "execution_count": 195,
   "metadata": {},
   "outputs": [],
   "source": [
    "device = torch.device(\"cuda\" if torch.cuda.is_available() else \"cpu\")\n",
    "load_model=False\n",
    "save_model=True"
   ]
  },
  {
   "cell_type": "code",
   "execution_count": 196,
   "metadata": {},
   "outputs": [],
   "source": [
    "input_dim = FEAT_DIM\n",
    "embed_dim = 512\n",
    "hidden_size = 256\n",
    "vocab_size = VOCAB_SIZE\n",
    "num_layers = 1\n",
    "learning_rate = 3e-4\n",
    "num_epochs = 100"
   ]
  },
  {
   "cell_type": "code",
   "execution_count": 110,
   "metadata": {},
   "outputs": [
    {
     "ename": "NameError",
     "evalue": "name 'tqdm' is not defined",
     "output_type": "error",
     "traceback": [
      "\u001b[0;31m---------------------------------------------------------------------------\u001b[0m",
      "\u001b[0;31mNameError\u001b[0m                                 Traceback (most recent call last)",
      "Cell \u001b[0;32mIn[110], line 11\u001b[0m\n\u001b[1;32m      9\u001b[0m losses\u001b[38;5;241m=\u001b[39m[]\n\u001b[1;32m     10\u001b[0m \u001b[38;5;28;01mfor\u001b[39;00m epoch \u001b[38;5;129;01min\u001b[39;00m \u001b[38;5;28mrange\u001b[39m(num_epochs):\n\u001b[0;32m---> 11\u001b[0m     \u001b[38;5;28;01mfor\u001b[39;00m idx,(X,y) \u001b[38;5;129;01min\u001b[39;00m \u001b[38;5;28menumerate\u001b[39m(tqdm(train_dataloader, desc\u001b[38;5;241m=\u001b[39m\u001b[38;5;124mf\u001b[39m\u001b[38;5;124m\"\u001b[39m\u001b[38;5;124mEpoch \u001b[39m\u001b[38;5;132;01m{\u001b[39;00mepoch\u001b[38;5;250m \u001b[39m\u001b[38;5;241m+\u001b[39m\u001b[38;5;250m \u001b[39m\u001b[38;5;241m1\u001b[39m\u001b[38;5;132;01m}\u001b[39;00m\u001b[38;5;124m\"\u001b[39m)):\n\u001b[1;32m     12\u001b[0m         X \u001b[38;5;241m=\u001b[39m X\u001b[38;5;241m.\u001b[39mto(device)\n\u001b[1;32m     13\u001b[0m         y \u001b[38;5;241m=\u001b[39m y\u001b[38;5;241m.\u001b[39mto(device)\u001b[38;5;241m.\u001b[39mT\n",
      "\u001b[0;31mNameError\u001b[0m: name 'tqdm' is not defined"
     ]
    }
   ],
   "source": [
    "model = EncoderDecoder(input_dim,embed_dim,hidden_size,vocab_size,num_layers).to(device)\n",
    "criterion = nn.CrossEntropyLoss(ignore_index=VOCAB_PAD_INDEX)\n",
    "optimizer = optim.Adam(model.parameters(),lr=learning_rate)\n",
    "\n",
    "if(load_model):\n",
    "    model.load_state_dict(torch.load(\"modeltweet.pth\"))\n",
    "    \n",
    "model.train()\n",
    "losses=[]\n",
    "for epoch in range(num_epochs):\n",
    "    for idx,(X,y) in enumerate(tqdm(train_dataloader, desc=f\"Epoch {epoch + 1}\")):\n",
    "        X = X.to(device)\n",
    "        y = y.to(device).T\n",
    "        print(\"X.shape\",X.shape,\"; y.shape\",y.shape,\"; y.reshape(-1).shape\",y.reshape(-1).shape)\n",
    "        outputs = model(X,y[:-1])\n",
    "        print(\"outputs.shape\",outputs.shape,\"; outputs.reshape(-1,outputs.shape[2]).shape \",outputs.reshape(-1,outputs.shape[2]).shape) # 3D tensor. This is nn.Linear(hiddens)\n",
    "\n",
    "        loss = criterion(outputs.reshape(-1,outputs.shape[2]),y.reshape(-1))\n",
    "        # print(loss.item())\n",
    "        losses.append(loss.item())\n",
    "\n",
    "        optimizer.zero_grad()\n",
    "        loss.backward(loss)\n",
    "        optimizer.step()\n",
    "    torch.save(model.state_dict(), \"modeltweet.pth\")"
   ]
  },
  {
   "cell_type": "markdown",
   "metadata": {},
   "source": [
    "## Note\n",
    "### Why is the first dim 65+1? Coz 65 is the length of the string, but the image is also inputted so in total we get 66 output words.\n",
    "### (num of words outputted, number of captions in batch, vocab size of each word)\n",
    "\n",
    "# In the loss\n",
    "\n",
    "outputs is of the shape (batches*words,vocab size)\n",
    "y (labels) is of the shape (batches*words,1). That last number should be converted to its one-hot encoding in order to apply cross entropy. This is automatically taken care of by the function during training."
   ]
  },
  {
   "cell_type": "code",
   "execution_count": 25,
   "metadata": {},
   "outputs": [
    {
     "data": {
      "text/plain": [
       "[<matplotlib.lines.Line2D at 0x154fcb150>]"
      ]
     },
     "execution_count": 25,
     "metadata": {},
     "output_type": "execute_result"
    },
    {
     "data": {
      "image/png": "[encoded data removed]",
      "text/plain": [
       "<Figure size 640x480 with 1 Axes>"
      ]
     },
     "metadata": {},
     "output_type": "display_data"
    }
   ],
   "source": [
    "import matplotlib.pyplot as plt\n",
    "plt.plot(losses)"
   ]
  },
  {
   "cell_type": "markdown",
   "metadata": {},
   "source": [
    "# Inference"
   ]
  },
  {
   "cell_type": "code",
   "execution_count": 197,
   "metadata": {},
   "outputs": [
    {
     "data": {
      "text/plain": [
       "<All keys matched successfully>"
      ]
     },
     "execution_count": 197,
     "metadata": {},
     "output_type": "execute_result"
    }
   ],
   "source": [
    "model = EncoderDecoder(input_dim,embed_dim,hidden_size,vocab_size,num_layers).to(device)\n",
    "model.load_state_dict(torch.load(\"modeltweet_jarvis.pth\", map_location=torch.device('cpu')))"
   ]
  },
  {
   "cell_type": "code",
   "execution_count": 198,
   "metadata": {},
   "outputs": [],
   "source": [
    "X_test = torch.load(\"X_test.pt\")\n",
    "y_test = torch.load(\"y_test.pt\")"
   ]
  },
  {
   "cell_type": "code",
   "execution_count": 199,
   "metadata": {},
   "outputs": [
    {
     "data": {
      "text/plain": [
       "(torch.Size([5144, 65]), torch.Size([5144, 1283]))"
      ]
     },
     "execution_count": 199,
     "metadata": {},
     "output_type": "execute_result"
    }
   ],
   "source": [
    "y_test.shape, X_test.shape"
   ]
  },
  {
   "cell_type": "code",
   "execution_count": 200,
   "metadata": {},
   "outputs": [
    {
     "name": "stderr",
     "output_type": "stream",
     "text": [
      "1lines [00:00,  8.67lines/s]\n"
     ]
    }
   ],
   "source": [
    "with open(\"y_train.pkl\",'rb') as file1:\n",
    "    y_train_pkl = pickle.load(file1)\n",
    "\n",
    "all_words = [word for sentence in y_train_pkl for word in sentence.split()]+[\"<EOS>\",\"<SOS>\"]\n",
    "vocab = build_vocab_from_iterator([all_words])"
   ]
  },
  {
   "cell_type": "code",
   "execution_count": 205,
   "metadata": {},
   "outputs": [
    {
     "name": "stdout",
     "output_type": "stream",
     "text": [
      "Filing a lot of hats, and gloom on the road can be difficult.\n",
      "\n",
      "Filing a life insurance claim can typically be done in four steps. See what else we’re doing to make life insurance a little less complicated.\n",
      "Rouge score -> 0.18181818181818182\n"
     ]
    }
   ],
   "source": [
    "img = X_test[41,:]\n",
    "caption = y_test[41,:]\n",
    "\n",
    "sent = model.caption_image(img,vocab)\n",
    "ref = remove_words_in_angle_brackets(\" \".join([vocab.itos[idx] for idx in caption])).split()\n",
    "cand = remove_words_in_angle_brackets(\" \".join(sent)).split()\n",
    "\n",
    "print(\" \".join(cand))\n",
    "print()\n",
    "print(\" \".join(ref))\n",
    "print('Rouge score -> {}'.format(Rouge().get_scores(\" \".join(cand),\" \".join(ref))[0]['rouge-l']['r']))\n",
    "# Should give a sentence output. This is like model.predict. I can then check out the "
   ]
  },
  {
   "cell_type": "code",
   "execution_count": 202,
   "metadata": {},
   "outputs": [],
   "source": [
    "def remove_words_in_angle_brackets(text):\n",
    "    pattern = r'<[^>]*>'\n",
    "    result = re.sub(pattern, '', text)\n",
    "    return result.strip()"
   ]
  },
  {
   "cell_type": "markdown",
   "metadata": {},
   "source": [
    "# BLEU Score Inference"
   ]
  },
  {
   "cell_type": "code",
   "execution_count": 209,
   "metadata": {},
   "outputs": [
    {
     "name": "stdout",
     "output_type": "stream",
     "text": [
      "[0.0, 0.0, 0.0, 0.03389830009767382, 0.0, 0.0, 0.0, 0.0, 0.0, 0.06451612428720119, 0.0, 0.7575757526492196, 0.0, 0.0, 0.0, 0.0, 0.0, 0.0, 0.0, 0.0999999968000001, 0.0, 0.0, 0.0, 0.0, 0.0, 0.0, 0.0, 0.0, 0.0, 0.0, 0.0, 0.0, 0.0, 0.0, 0.0, 0.0, 0.0, 0.0, 0.0, 0.032786880548240395, 0.0, 0.0, 0.0, 0.02739725543253979, 0.0, 0.0, 0.0, 0.16666666166666683, 0.0, 0.0, 0.0, 0.0, 0.0, 0.09999999511250024, 0.0, 0.0, 0.0, 0.0, 0.0, 0.0, 0.0, 0.0, 0.0, 0.0, 0.0, 0.0, 0.0, 0.0, 0.0, 0.0, 0.0, 0.0, 0.0434782566351611, 0.0, 0.0, 0.0, 0.0, 0.0, 0.0, 0.0, 0.0, 0.0, 0.0, 0.0, 0.0, 0.0, 0.0, 0.0, 0.0, 0.03846153364645031, 0.0, 0.0, 0.033898300718185, 0.036363631497521316, 0.0, 0.0, 0.0, 0.0, 0.0, 0.0, 0.0, 0.0, 0.0, 0.0, 0.0, 0.0, 0.0, 0.0, 0.0, 0.0, 0.0, 0.0, 0.0, 0.0, 0.0, 0.0, 0.0, 0.0, 0.0, 0.0, 0.0, 0.0, 0.0, 0.0, 0.0, 0.0, 0.0, 0.0, 0.0, 0.0, 0.0, 0.0, 0.0, 0.0, 0.0, 0.0, 0.0, 0.0, 0.0, 0.0, 0.0, 0.0, 0.0, 0.07142856951530618, 0.0, 0.0, 0.0, 0.0, 0.0, 0.035714281632653534, 0.0, 0.0, 0.0, 0.0, 0.0, 0.0, 0.0, 0.0, 0.0, 0.0, 0.0, 0.09302325114115761, 0.0, 0.0, 0.0, 0.0, 0.0, 0.0, 0.0, 0.0, 0.0, 0.0, 0.0, 0.0, 0.0, 0.0, 0.0, 0.0, 0.0, 0.0, 0.0, 0.0, 0.0, 0.0, 0.0, 0.0, 0.0, 0.0, 0.0, 0.0, 0.0, 0.0, 0.0, 0.0, 0.0, 0.0, 0.0, 0.0, 0.0, 0.0, 0.0, 0.0, 0.05263157628808878, 0.0, 0.0, 0.0, 0.0, 0.0, 0.0, 0.0, 0.0, 0.0, 0.0, 0.0, 0.0, 0.03571428081632721, 0.0, 0.0, 0.0, 0.0, 0.0, 0.0, 0.0, 0.0, 0.0, 0.0, 0.060606055977961794, 0.0, 0.0, 0.0, 0.0, 0.0, 0.0, 0.0888888839111114, 0.0, 0.0, 0.0, 0.0, 0.0, 0.0, 0.0, 0.0, 0.0, 0.0, 0.0, 0.0, 0.0, 0.0, 0.025316450716232352, 0.0, 0.0, 0.0, 0.0, 0.0, 0.0, 0.0, 0.0, 0.0, 0.03571428255739824, 0.0, 0.0, 0.0, 0.0, 0.0, 0.0, 0.0, 0.0, 0.038461533468935556, 0.0, 0.0, 0.0, 0.0, 0.0, 0.0, 0.0, 0.02777777287422926, 0.0, 0.0, 0.0, 0.0, 0.0, 0.0, 0.0, 0.0, 0.0, 0.036363631563637, 0.0, 0.0, 0.0, 0.0, 0.0, 0.0, 0.0, 0.0, 0.0, 0.0, 0.0, 0.0, 0.0, 0.0, 0.0, 0.0, 0.0, 0.0, 0.0, 0.0, 0.0, 0.0, 0.05714285263673504, 0.0, 0.0, 0.0, 0.0, 0.0, 0.0, 0.0, 0.0, 0.0, 0.0, 0.0, 0.0, 0.0, 0.0, 0.0, 0.0, 0.0, 0.0, 0.0, 0.0, 0.03076922650887633, 0.0, 0.032786880634238756, 0.0, 0.0, 0.0, 0.04545454096074425, 0.0, 0.0, 0.0, 0.0, 0.0, 0.0, 0.0, 0.0, 0.0, 0.0, 0.0, 0.0, 0.0, 0.12499999531250018, 0.0, 0.0, 0.03508771431209674, 0.0, 0.0, 0.0, 0.0, 0.0, 0.0, 0.0, 0.24999999507812506, 0.03773584445710273, 0.0, 0.030769225827219727, 0.0, 0.0, 0.0, 0.0, 0.0, 0.0, 0.030303025964187952, 0.06896551224732497, 0.0, 0.0, 0.0, 0.0, 0.0, 0.0, 0.0, 0.0, 0.0, 0.0, 0.0, 0.0833333311458334, 0.7575757526492196, 0.0, 0.7719298195752539, 0.0, 0.0, 0.0, 0.0, 0.0, 0.0, 0.0, 0.0, 0.028985502331443806, 0.0, 0.0, 0.0434782564744806, 0.0, 0.0, 0.0, 0.0, 0.0, 0.0, 0.0, 0.0, 0.0, 0.0, 0.0, 0.03333332900555612, 0.0555555505709881, 0.0, 0.0, 0.0, 0.0, 0.0, 0.0, 0.0, 0.0, 0.025974020974870247, 0.0, 0.0, 0.0, 0.07407406908093313, 0.0, 0.0, 0.0, 0.0, 0.0, 0.0, 0.0, 0.0, 0.0, 0.04255318676324181, 0.02941176013840902, 0.0, 0.0, 0.0, 0.0, 0.0, 0.06249999517578163, 0.0, 0.0, 0.0, 0.0, 0.0, 0.0, 0.0, 0.0, 0.0, 0.0, 0.0, 0.0, 0.0, 0.0, 0.0, 0.0, 0.0, 0.0, 0.0, 0.03333332913333387, 0.0, 0.0, 0.0, 0.0, 0.0, 0.0, 0.0, 0.0, 0.0, 0.0, 0.0, 0.0, 0.0, 0.0, 0.0, 0.0, 0.0, 0.0, 0.0, 0.0, 0.0] 499\n"
     ]
    }
   ],
   "source": [
    "arr = []\n",
    "arr2=[]\n",
    "for i in range(500):\n",
    "    # print(i)\n",
    "    img = X_test[i,:]\n",
    "    caption = y_test[i,:]\n",
    "\n",
    "    sent = model.caption_image(img,vocab)\n",
    "    ref = remove_words_in_angle_brackets(\" \".join([vocab.itos[idx] for idx in caption])).split()\n",
    "    cand = remove_words_in_angle_brackets(\" \".join(sent)).split()\n",
    "\n",
    "    # print(\" \".join(cand))\n",
    "    # print()\n",
    "    # print(\" \".join(ref))\n",
    "    # print('BLEU score -> {}'.format(sentence_bleu(ref, cand)))\n",
    "    # arr2.append(sentence_bleu([ref], cand, weights=(.7, .2, .1, 0), smoothing_function=SmoothingFunction().method1))\n",
    "    if(cand!=[]):\n",
    "        arr.append(float(Rouge().get_scores(\" \".join(cand),\" \".join(ref))[0]['rouge-2']['f']))\n",
    "    \n",
    "print(arr,i)"
   ]
  },
  {
   "cell_type": "code",
   "execution_count": 177,
   "metadata": {},
   "outputs": [
    {
     "data": {
      "text/plain": [
       "[<matplotlib.lines.Line2D at 0x152d7b290>]"
      ]
     },
     "execution_count": 177,
     "metadata": {},
     "output_type": "execute_result"
    },
    {
     "data": {
      "image/png": "[encoded data removed]",
      "text/plain": [
       "<Figure size 640x480 with 1 Axes>"
      ]
     },
     "metadata": {},
     "output_type": "display_data"
    }
   ],
   "source": [
    "plt.plot(arr,'r-')"
   ]
  },
  {
   "cell_type": "code",
   "execution_count": 126,
   "metadata": {},
   "outputs": [
    {
     "data": {
      "text/plain": [
       "[<matplotlib.lines.Line2D at 0x146054bd0>]"
      ]
     },
     "execution_count": 126,
     "metadata": {},
     "output_type": "execute_result"
    },
    {
     "data": {
      "image/png": "[encoded data removed]",
      "text/plain": [
       "<Figure size 640x480 with 1 Axes>"
      ]
     },
     "metadata": {},
     "output_type": "display_data"
    }
   ],
   "source": [
    "plt.plot(arr,'b-')"
   ]
  },
  {
   "cell_type": "code",
   "execution_count": 128,
   "metadata": {},
   "outputs": [
    {
     "data": {
      "text/plain": [
       "(0.36358267759002705, 11)"
      ]
     },
     "execution_count": 128,
     "metadata": {},
     "output_type": "execute_result"
    }
   ],
   "source": [
    "max(arr),np.argmax(np.array(arr))"
   ]
  },
  {
   "cell_type": "code",
   "execution_count": 203,
   "metadata": {},
   "outputs": [
    {
     "name": "stdout",
     "output_type": "stream",
     "text": [
      "BREAKING: Gunmen Kidnap Father For Allegedly Stealing Shoes Worth N1.22m\n",
      "\n",
      "Lokoja Popular Shop Owner Killed, Many Abducted\n",
      "0\n"
     ]
    }
   ],
   "source": [
    "img = X_test[40,:]\n",
    "caption = y_test[40,:]\n",
    "\n",
    "sent = model.caption_image(img,vocab)\n",
    "ref = remove_words_in_angle_brackets(\" \".join([vocab.itos[idx] for idx in caption])).split()\n",
    "cand = remove_words_in_angle_brackets(\" \".join(sent)).split()\n",
    "\n",
    "print(\" \".join(cand))\n",
    "print()\n",
    "print(\" \".join(ref))\n",
    "print(sentence_bleu([ref], cand, weights=(.9, .1, 0, 0), smoothing_function=SmoothingFunction().method1))"
   ]
  },
  {
   "cell_type": "code",
   "execution_count": null,
   "metadata": {},
   "outputs": [],
   "source": []
  }
 ],
 "metadata": {
  "interpreter": {
   "hash": "8ff1e3bcc722a39238b6a7f93d00740f2997fe4fe04527d6796cad45df3c0deb"
  },
  "kernelspec": {
   "display_name": "Python 3.11.5 64-bit ('mne': conda)",
   "name": "python3"
  },
  "language_info": {
   "codemirror_mode": {
    "name": "ipython",
    "version": 3
   },
   "file_extension": ".py",
   "mimetype": "text/x-python",
   "name": "python",
   "nbconvert_exporter": "python",
   "pygments_lexer": "ipython3",
   "version": "3.11.5"
  },
  "orig_nbformat": 4
 },
 "nbformat": 4,
 "nbformat_minor": 2
}